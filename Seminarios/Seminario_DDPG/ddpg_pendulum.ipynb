{
  "cells": [
    {
      "cell_type": "markdown",
      "metadata": {
        "id": "Pb97EseAhGYr"
      },
      "source": [
        "# Deep Deterministic Policy Gradient (DDPG)\n",
        "\n",
        "**Author:** [amifunny](https://github.com/amifunny)<br>\n",
        "**Date created:** 2020/06/04<br>\n",
        "**Last modified:** 2024/03/23<br>\n",
        "**Description:** Implementing DDPG algorithm on the Inverted Pendulum Problem."
      ]
    },
    {
      "cell_type": "markdown",
      "metadata": {
        "id": "PEJVaWw0hGYu"
      },
      "source": [
        "## Introduction\n",
        "\n",
        "**Deep Deterministic Policy Gradient (DDPG)** is a model-free off-policy algorithm for\n",
        "learning continuous actions.\n",
        "\n",
        "It combines ideas from DPG (Deterministic Policy Gradient) and DQN (Deep Q-Network).\n",
        "It uses Experience Replay and slow-learning target networks from DQN, and it is based on\n",
        "DPG, which can operate over continuous action spaces.\n",
        "\n",
        "This tutorial closely follow this paper -\n",
        "[Continuous control with deep reinforcement learning](https://arxiv.org/abs/1509.02971)\n",
        "\n",
        "## Problem\n",
        "\n",
        "We are trying to solve the classic **Inverted Pendulum** control problem.\n",
        "In this setting, we can take only two actions: swing left or swing right.\n",
        "\n",
        "What make this problem challenging for Q-Learning Algorithms is that actions\n",
        "are **continuous** instead of being **discrete**. That is, instead of using two\n",
        "discrete actions like `-1` or `+1`, we have to select from infinite actions\n",
        "ranging from `-2` to `+2`.\n",
        "\n",
        "## Quick theory\n",
        "\n",
        "Just like the Actor-Critic method, we have two networks:\n",
        "\n",
        "1. Actor - It proposes an action given a state.\n",
        "2. Critic - It predicts if the action is good (positive value) or bad (negative value)\n",
        "given a state and an action.\n",
        "\n",
        "DDPG uses two more techniques not present in the original DQN:\n",
        "\n",
        "**First, it uses two Target networks.**\n",
        "\n",
        "**Why?** Because it add stability to training. In short, we are learning from estimated\n",
        "targets and Target networks are updated slowly, hence keeping our estimated targets\n",
        "stable.\n",
        "\n",
        "Conceptually, this is like saying, \"I have an idea of how to play this well,\n",
        "I'm going to try it out for a bit until I find something better\",\n",
        "as opposed to saying \"I'm going to re-learn how to play this entire game after every\n",
        "move\".\n",
        "See this [StackOverflow answer](https://stackoverflow.com/a/54238556/13475679).\n",
        "\n",
        "**Second, it uses Experience Replay.**\n",
        "\n",
        "We store list of tuples `(state, action, reward, next_state)`, and instead of\n",
        "learning only from recent experience, we learn from sampling all of our experience\n",
        "accumulated so far.\n",
        "\n",
        "Now, let's see how is it implemented."
      ]
    },
    {
      "cell_type": "code",
      "execution_count": 1,
      "metadata": {
        "id": "QN0sw12AhGYw"
      },
      "outputs": [],
      "source": [
        "import os\n",
        "\n",
        "os.environ[\"KERAS_BACKEND\"] = \"tensorflow\"\n",
        "\n",
        "import keras\n",
        "from keras import layers\n",
        "\n",
        "import tensorflow as tf\n",
        "import gymnasium as gym\n",
        "import numpy as np\n",
        "import matplotlib.pyplot as plt"
      ]
    },
    {
      "cell_type": "markdown",
      "metadata": {
        "id": "1r2g-uS_hGYy"
      },
      "source": [
        "We use [Gymnasium](https://gymnasium.farama.org/) to create the environment.\n",
        "We will use the `upper_bound` parameter to scale our actions later."
      ]
    },
    {
      "cell_type": "code",
      "execution_count": 2,
      "metadata": {
        "id": "vug4VcrFhGY0",
        "outputId": "1ad3c7c3-34aa-45a0-ec20-c5cc61f5932d",
        "colab": {
          "base_uri": "https://localhost:8080/"
        }
      },
      "outputs": [
        {
          "output_type": "stream",
          "name": "stdout",
          "text": [
            "Size of State Space ->  3\n",
            "Size of Action Space ->  1\n",
            "Max Value of Action ->  2.0\n",
            "Min Value of Action ->  -2.0\n"
          ]
        }
      ],
      "source": [
        "# Specify the `render_mode` parameter to show the attempts of the agent in a pop up window.\n",
        "env = gym.make(\"Pendulum-v1\", render_mode=\"human\")\n",
        "\n",
        "num_states = env.observation_space.shape[0]\n",
        "print(\"Size of State Space ->  {}\".format(num_states))\n",
        "num_actions = env.action_space.shape[0]\n",
        "print(\"Size of Action Space ->  {}\".format(num_actions))\n",
        "\n",
        "upper_bound = env.action_space.high[0]\n",
        "lower_bound = env.action_space.low[0]\n",
        "\n",
        "print(\"Max Value of Action ->  {}\".format(upper_bound))\n",
        "print(\"Min Value of Action ->  {}\".format(lower_bound))"
      ]
    },
    {
      "cell_type": "markdown",
      "metadata": {
        "id": "gzyXJm-5hGY1"
      },
      "source": [
        "To implement better exploration by the Actor network, we use noisy perturbations,\n",
        "specifically\n",
        "an **Ornstein-Uhlenbeck process** for generating noise, as described in the paper.\n",
        "It samples noise from a correlated normal distribution."
      ]
    },
    {
      "cell_type": "code",
      "execution_count": 3,
      "metadata": {
        "id": "_K23uwyphGY2"
      },
      "outputs": [],
      "source": [
        "\n",
        "class OUActionNoise:\n",
        "    def __init__(self, mean, std_deviation, theta=0.15, dt=1e-2, x_initial=None):\n",
        "        self.theta = theta\n",
        "        self.mean = mean\n",
        "        self.std_dev = std_deviation\n",
        "        self.dt = dt\n",
        "        self.x_initial = x_initial\n",
        "        self.reset()\n",
        "\n",
        "    def __call__(self):\n",
        "        # Formula taken from https://www.wikipedia.org/wiki/Ornstein-Uhlenbeck_process\n",
        "        x = (\n",
        "            self.x_prev\n",
        "            + self.theta * (self.mean - self.x_prev) * self.dt\n",
        "            + self.std_dev * np.sqrt(self.dt) * np.random.normal(size=self.mean.shape)\n",
        "        )\n",
        "        # Store x into x_prev\n",
        "        # Makes next noise dependent on current one\n",
        "        self.x_prev = x\n",
        "        return x\n",
        "\n",
        "    def reset(self):\n",
        "        if self.x_initial is not None:\n",
        "            self.x_prev = self.x_initial\n",
        "        else:\n",
        "            self.x_prev = np.zeros_like(self.mean)\n"
      ]
    },
    {
      "cell_type": "markdown",
      "metadata": {
        "id": "-39mMh_ChGY3"
      },
      "source": [
        "The `Buffer` class implements Experience Replay.\n",
        "\n",
        "---\n",
        "![Algorithm](https://i.imgur.com/mS6iGyJ.jpg)\n",
        "---\n",
        "\n",
        "\n",
        "**Critic loss** - Mean Squared Error of `y - Q(s, a)`\n",
        "where `y` is the expected return as seen by the Target network,\n",
        "and `Q(s, a)` is action value predicted by the Critic network. `y` is a moving target\n",
        "that the critic model tries to achieve; we make this target\n",
        "stable by updating the Target model slowly.\n",
        "\n",
        "**Actor loss** - This is computed using the mean of the value given by the Critic network\n",
        "for the actions taken by the Actor network. We seek to maximize this quantity.\n",
        "\n",
        "Hence we update the Actor network so that it produces actions that get\n",
        "the maximum predicted value as seen by the Critic, for a given state."
      ]
    },
    {
      "cell_type": "code",
      "execution_count": 4,
      "metadata": {
        "id": "lQyJMLt2hGY5"
      },
      "outputs": [],
      "source": [
        "\n",
        "class Buffer:\n",
        "    def __init__(self, buffer_capacity=100000, batch_size=64):\n",
        "        # Number of \"experiences\" to store at max\n",
        "        self.buffer_capacity = buffer_capacity\n",
        "        # Num of tuples to train on.\n",
        "        self.batch_size = batch_size\n",
        "\n",
        "        # Its tells us num of times record() was called.\n",
        "        self.buffer_counter = 0\n",
        "\n",
        "        # Instead of list of tuples as the exp.replay concept go\n",
        "        # We use different np.arrays for each tuple element\n",
        "        self.state_buffer = np.zeros((self.buffer_capacity, num_states))\n",
        "        self.action_buffer = np.zeros((self.buffer_capacity, num_actions))\n",
        "        self.reward_buffer = np.zeros((self.buffer_capacity, 1))\n",
        "        self.next_state_buffer = np.zeros((self.buffer_capacity, num_states))\n",
        "\n",
        "    # Takes (s,a,r,s') observation tuple as input\n",
        "    def record(self, obs_tuple):\n",
        "        # Set index to zero if buffer_capacity is exceeded,\n",
        "        # replacing old records\n",
        "        index = self.buffer_counter % self.buffer_capacity\n",
        "\n",
        "        self.state_buffer[index] = obs_tuple[0]\n",
        "        self.action_buffer[index] = obs_tuple[1]\n",
        "        self.reward_buffer[index] = obs_tuple[2]\n",
        "        self.next_state_buffer[index] = obs_tuple[3]\n",
        "\n",
        "        self.buffer_counter += 1\n",
        "\n",
        "    # Eager execution is turned on by default in TensorFlow 2. Decorating with tf.function allows\n",
        "    # TensorFlow to build a static graph out of the logic and computations in our function.\n",
        "    # This provides a large speed up for blocks of code that contain many small TensorFlow operations such as this one.\n",
        "    @tf.function\n",
        "    def update(\n",
        "        self,\n",
        "        state_batch,\n",
        "        action_batch,\n",
        "        reward_batch,\n",
        "        next_state_batch,\n",
        "    ):\n",
        "        # Training and updating Actor & Critic networks.\n",
        "        # See Pseudo Code.\n",
        "        with tf.GradientTape() as tape:\n",
        "            target_actions = target_actor(next_state_batch, training=True)\n",
        "            y = reward_batch + gamma * target_critic(\n",
        "                [next_state_batch, target_actions], training=True\n",
        "            )\n",
        "            critic_value = critic_model([state_batch, action_batch], training=True)\n",
        "            critic_loss = keras.ops.mean(keras.ops.square(y - critic_value))\n",
        "\n",
        "        critic_grad = tape.gradient(critic_loss, critic_model.trainable_variables)\n",
        "        critic_optimizer.apply_gradients(\n",
        "            zip(critic_grad, critic_model.trainable_variables)\n",
        "        )\n",
        "\n",
        "        with tf.GradientTape() as tape:\n",
        "            actions = actor_model(state_batch, training=True)\n",
        "            critic_value = critic_model([state_batch, actions], training=True)\n",
        "            # Used `-value` as we want to maximize the value given\n",
        "            # by the critic for our actions\n",
        "            actor_loss = -keras.ops.mean(critic_value)\n",
        "\n",
        "        actor_grad = tape.gradient(actor_loss, actor_model.trainable_variables)\n",
        "        actor_optimizer.apply_gradients(\n",
        "            zip(actor_grad, actor_model.trainable_variables)\n",
        "        )\n",
        "\n",
        "    # We compute the loss and update parameters\n",
        "    def learn(self):\n",
        "        # Get sampling range\n",
        "        record_range = min(self.buffer_counter, self.buffer_capacity)\n",
        "        # Randomly sample indices\n",
        "        batch_indices = np.random.choice(record_range, self.batch_size)\n",
        "\n",
        "        # Convert to tensors\n",
        "        state_batch = keras.ops.convert_to_tensor(self.state_buffer[batch_indices])\n",
        "        action_batch = keras.ops.convert_to_tensor(self.action_buffer[batch_indices])\n",
        "        reward_batch = keras.ops.convert_to_tensor(self.reward_buffer[batch_indices])\n",
        "        reward_batch = keras.ops.cast(reward_batch, dtype=\"float32\")\n",
        "        next_state_batch = keras.ops.convert_to_tensor(\n",
        "            self.next_state_buffer[batch_indices]\n",
        "        )\n",
        "\n",
        "        self.update(state_batch, action_batch, reward_batch, next_state_batch)\n",
        "\n",
        "\n",
        "# This update target parameters slowly\n",
        "# Based on rate `tau`, which is much less than one.\n",
        "def update_target(target, original, tau):\n",
        "    target_weights = target.get_weights()\n",
        "    original_weights = original.get_weights()\n",
        "\n",
        "    for i in range(len(target_weights)):\n",
        "        target_weights[i] = original_weights[i] * tau + target_weights[i] * (1 - tau)\n",
        "\n",
        "    target.set_weights(target_weights)\n"
      ]
    },
    {
      "cell_type": "markdown",
      "metadata": {
        "id": "WTwUlHw4hGY6"
      },
      "source": [
        "Here we define the Actor and Critic networks. These are basic Dense models\n",
        "with `ReLU` activation.\n",
        "\n",
        "Note: We need the initialization for last layer of the Actor to be between\n",
        "`-0.003` and `0.003` as this prevents us from getting `1` or `-1` output values in\n",
        "the initial stages, which would squash our gradients to zero,\n",
        "as we use the `tanh` activation."
      ]
    },
    {
      "cell_type": "code",
      "execution_count": 5,
      "metadata": {
        "id": "gO9vuau_hGY7"
      },
      "outputs": [],
      "source": [
        "\n",
        "def get_actor():\n",
        "    # Initialize weights between -3e-3 and 3-e3\n",
        "    last_init = keras.initializers.RandomUniform(minval=-0.003, maxval=0.003)\n",
        "\n",
        "    inputs = layers.Input(shape=(num_states,))\n",
        "    out = layers.Dense(256, activation=\"relu\")(inputs)\n",
        "    out = layers.Dense(256, activation=\"relu\")(out)\n",
        "    outputs = layers.Dense(1, activation=\"tanh\", kernel_initializer=last_init)(out)\n",
        "\n",
        "    # Our upper bound is 2.0 for Pendulum.\n",
        "    outputs = outputs * upper_bound\n",
        "    model = keras.Model(inputs, outputs)\n",
        "    return model\n",
        "\n",
        "\n",
        "def get_critic():\n",
        "    # State as input\n",
        "    state_input = layers.Input(shape=(num_states,))\n",
        "    state_out = layers.Dense(16, activation=\"relu\")(state_input)\n",
        "    state_out = layers.Dense(32, activation=\"relu\")(state_out)\n",
        "\n",
        "    # Action as input\n",
        "    action_input = layers.Input(shape=(num_actions,))\n",
        "    action_out = layers.Dense(32, activation=\"relu\")(action_input)\n",
        "\n",
        "    # Both are passed through separate layer before concatenating\n",
        "    concat = layers.Concatenate()([state_out, action_out])\n",
        "\n",
        "    out = layers.Dense(256, activation=\"relu\")(concat)\n",
        "    out = layers.Dense(256, activation=\"relu\")(out)\n",
        "    outputs = layers.Dense(1)(out)\n",
        "\n",
        "    # Outputs single value for give state-action\n",
        "    model = keras.Model([state_input, action_input], outputs)\n",
        "\n",
        "    return model\n"
      ]
    },
    {
      "cell_type": "markdown",
      "metadata": {
        "id": "DAfnKNYyhGY-"
      },
      "source": [
        "`policy()` returns an action sampled from our Actor network plus some noise for\n",
        "exploration."
      ]
    },
    {
      "cell_type": "code",
      "execution_count": 6,
      "metadata": {
        "id": "G0QtsH0ihGY-"
      },
      "outputs": [],
      "source": [
        "\n",
        "def policy(state, noise_object):\n",
        "    sampled_actions = keras.ops.squeeze(actor_model(state))\n",
        "    noise = noise_object()\n",
        "    # Adding noise to action\n",
        "    sampled_actions = sampled_actions.numpy() + noise\n",
        "\n",
        "    # We make sure action is within bounds\n",
        "    legal_action = np.clip(sampled_actions, lower_bound, upper_bound)\n",
        "\n",
        "    return [np.squeeze(legal_action)]\n"
      ]
    },
    {
      "cell_type": "markdown",
      "metadata": {
        "id": "rvW_Nl_shGY_"
      },
      "source": [
        "## Training hyperparameters"
      ]
    },
    {
      "cell_type": "code",
      "execution_count": 7,
      "metadata": {
        "id": "PaavhmtmhGZA"
      },
      "outputs": [],
      "source": [
        "std_dev = 0.2\n",
        "ou_noise = OUActionNoise(mean=np.zeros(1), std_deviation=float(std_dev) * np.ones(1))\n",
        "\n",
        "actor_model = get_actor()\n",
        "critic_model = get_critic()\n",
        "\n",
        "target_actor = get_actor()\n",
        "target_critic = get_critic()\n",
        "\n",
        "# Making the weights equal initially\n",
        "target_actor.set_weights(actor_model.get_weights())\n",
        "target_critic.set_weights(critic_model.get_weights())\n",
        "\n",
        "# Learning rate for actor-critic models\n",
        "critic_lr = 0.002\n",
        "actor_lr = 0.001\n",
        "\n",
        "critic_optimizer = keras.optimizers.Adam(critic_lr)\n",
        "actor_optimizer = keras.optimizers.Adam(actor_lr)\n",
        "\n",
        "total_episodes = 100\n",
        "# Discount factor for future rewards\n",
        "gamma = 0.99\n",
        "# Used to update target networks\n",
        "tau = 0.005\n",
        "\n",
        "buffer = Buffer(50000, 64)"
      ]
    },
    {
      "cell_type": "markdown",
      "metadata": {
        "id": "m1WMkeeYhGZA"
      },
      "source": [
        "Now we implement our main training loop, and iterate over episodes.\n",
        "We sample actions using `policy()` and train with `learn()` at each time step,\n",
        "along with updating the Target networks at a rate `tau`."
      ]
    },
    {
      "cell_type": "code",
      "execution_count": 8,
      "metadata": {
        "id": "_wdrKbJnhGZB",
        "outputId": "5ddf4ac9-617a-4757-93b3-4ca8662c0b7f",
        "colab": {
          "base_uri": "https://localhost:8080/",
          "height": 1000
        }
      },
      "outputs": [
        {
          "output_type": "stream",
          "name": "stdout",
          "text": [
            "Episode * 0 * Avg Reward is ==> -1558.2004743737918\n",
            "Episode * 1 * Avg Reward is ==> -1433.0074224365344\n",
            "Episode * 2 * Avg Reward is ==> -1367.8265502128925\n",
            "Episode * 3 * Avg Reward is ==> -1368.306945271555\n",
            "Episode * 4 * Avg Reward is ==> -1464.7220552267986\n",
            "Episode * 5 * Avg Reward is ==> -1472.401398919841\n",
            "Episode * 6 * Avg Reward is ==> -1511.088631223152\n",
            "Episode * 7 * Avg Reward is ==> -1526.2809173821172\n",
            "Episode * 8 * Avg Reward is ==> -1530.5745224422392\n",
            "Episode * 9 * Avg Reward is ==> -1484.0265933420624\n",
            "Episode * 10 * Avg Reward is ==> -1419.9654337742543\n",
            "Episode * 11 * Avg Reward is ==> -1368.2715850309612\n",
            "Episode * 12 * Avg Reward is ==> -1293.3844706090147\n",
            "Episode * 13 * Avg Reward is ==> -1237.4831180737958\n",
            "Episode * 14 * Avg Reward is ==> -1180.388029231427\n",
            "Episode * 15 * Avg Reward is ==> -1134.911448037009\n",
            "Episode * 16 * Avg Reward is ==> -1083.2505163491442\n",
            "Episode * 17 * Avg Reward is ==> -1029.7944081070382\n",
            "Episode * 18 * Avg Reward is ==> -989.0890259381172\n",
            "Episode * 19 * Avg Reward is ==> -945.6348439287154\n",
            "Episode * 20 * Avg Reward is ==> -900.7073051144471\n",
            "Episode * 21 * Avg Reward is ==> -883.5610724228209\n",
            "Episode * 22 * Avg Reward is ==> -861.9471560959746\n",
            "Episode * 23 * Avg Reward is ==> -852.533577808072\n",
            "Episode * 24 * Avg Reward is ==> -818.5287854247091\n",
            "Episode * 25 * Avg Reward is ==> -791.9105309815222\n",
            "Episode * 26 * Avg Reward is ==> -762.7191960862627\n",
            "Episode * 27 * Avg Reward is ==> -739.76831872413\n",
            "Episode * 28 * Avg Reward is ==> -718.6797833323386\n",
            "Episode * 29 * Avg Reward is ==> -706.5082040619873\n",
            "Episode * 30 * Avg Reward is ==> -687.6805107088644\n",
            "Episode * 31 * Avg Reward is ==> -670.1624149801114\n",
            "Episode * 32 * Avg Reward is ==> -653.4532184864063\n",
            "Episode * 33 * Avg Reward is ==> -641.9394778414327\n",
            "Episode * 34 * Avg Reward is ==> -627.1624390414073\n",
            "Episode * 35 * Avg Reward is ==> -613.0751671195812\n",
            "Episode * 36 * Avg Reward is ==> -599.8325098824747\n",
            "Episode * 37 * Avg Reward is ==> -587.1284010058671\n",
            "Episode * 38 * Avg Reward is ==> -575.0328185946224\n",
            "Episode * 39 * Avg Reward is ==> -563.6971510516787\n",
            "Episode * 40 * Avg Reward is ==> -527.8670823482801\n",
            "Episode * 41 * Avg Reward is ==> -498.233134729862\n",
            "Episode * 42 * Avg Reward is ==> -470.3579141121045\n",
            "Episode * 43 * Avg Reward is ==> -439.4993793791344\n",
            "Episode * 44 * Avg Reward is ==> -393.47583824906235\n",
            "Episode * 45 * Avg Reward is ==> -358.89567386570377\n",
            "Episode * 46 * Avg Reward is ==> -324.4481494048141\n",
            "Episode * 47 * Avg Reward is ==> -289.52919770709076\n",
            "Episode * 48 * Avg Reward is ==> -253.63734451946112\n",
            "Episode * 49 * Avg Reward is ==> -232.6196979755911\n",
            "Episode * 50 * Avg Reward is ==> -218.93421279570876\n",
            "Episode * 51 * Avg Reward is ==> -202.21929533620295\n",
            "Episode * 52 * Avg Reward is ==> -198.56114782251427\n",
            "Episode * 53 * Avg Reward is ==> -191.80013812240713\n",
            "Episode * 54 * Avg Reward is ==> -185.28862098660292\n",
            "Episode * 55 * Avg Reward is ==> -177.33715274490828\n",
            "Episode * 56 * Avg Reward is ==> -174.36056362507287\n",
            "Episode * 57 * Avg Reward is ==> -177.9246032355575\n",
            "Episode * 58 * Avg Reward is ==> -180.44785365392454\n",
            "Episode * 59 * Avg Reward is ==> -180.91984266905303\n",
            "Episode * 60 * Avg Reward is ==> -181.1684514108676\n",
            "Episode * 61 * Avg Reward is ==> -171.4053077746782\n",
            "Episode * 62 * Avg Reward is ==> -164.72164440363107\n",
            "Episode * 63 * Avg Reward is ==> -148.95770973419553\n",
            "Episode * 64 * Avg Reward is ==> -152.0744786951172\n",
            "Episode * 65 * Avg Reward is ==> -154.85106953927078\n",
            "Episode * 66 * Avg Reward is ==> -157.83709878385542\n",
            "Episode * 67 * Avg Reward is ==> -154.9111013645766\n",
            "Episode * 68 * Avg Reward is ==> -160.34627976514858\n",
            "Episode * 69 * Avg Reward is ==> -154.64332191543235\n",
            "Episode * 70 * Avg Reward is ==> -151.6603140513956\n",
            "Episode * 71 * Avg Reward is ==> -154.43139144022683\n",
            "Episode * 72 * Avg Reward is ==> -160.08670124234635\n",
            "Episode * 73 * Avg Reward is ==> -156.65701816528122\n",
            "Episode * 74 * Avg Reward is ==> -156.66318993386122\n",
            "Episode * 75 * Avg Reward is ==> -156.7586991106357\n",
            "Episode * 76 * Avg Reward is ==> -153.75934662036073\n",
            "Episode * 77 * Avg Reward is ==> -158.938298600192\n",
            "Episode * 78 * Avg Reward is ==> -158.92975190221506\n",
            "Episode * 79 * Avg Reward is ==> -158.85298936865917\n",
            "Episode * 80 * Avg Reward is ==> -164.89064387296423\n",
            "Episode * 81 * Avg Reward is ==> -170.62055676848485\n",
            "Episode * 82 * Avg Reward is ==> -175.58422264038654\n",
            "Episode * 83 * Avg Reward is ==> -172.23888630985334\n",
            "Episode * 84 * Avg Reward is ==> -177.6505853733026\n",
            "Episode * 85 * Avg Reward is ==> -180.66318709818432\n",
            "Episode * 86 * Avg Reward is ==> -177.66618051645455\n",
            "Episode * 87 * Avg Reward is ==> -177.74213447311303\n",
            "Episode * 88 * Avg Reward is ==> -180.63979956886874\n",
            "Episode * 89 * Avg Reward is ==> -178.2514968352044\n",
            "Episode * 90 * Avg Reward is ==> -175.54190237060305\n",
            "Episode * 91 * Avg Reward is ==> -175.26675282103312\n",
            "Episode * 92 * Avg Reward is ==> -172.25322606679202\n",
            "Episode * 93 * Avg Reward is ==> -169.48342182339806\n",
            "Episode * 94 * Avg Reward is ==> -169.46492405723694\n",
            "Episode * 95 * Avg Reward is ==> -171.89761178570444\n",
            "Episode * 96 * Avg Reward is ==> -168.52774179844505\n",
            "Episode * 97 * Avg Reward is ==> -168.1380788956999\n",
            "Episode * 98 * Avg Reward is ==> -167.904525209776\n",
            "Episode * 99 * Avg Reward is ==> -167.60584377278275\n"
          ]
        },
        {
          "output_type": "display_data",
          "data": {
            "text/plain": [
              "<Figure size 640x480 with 1 Axes>"
            ],
            "image/png": "[encoded data removed]"
          },
          "metadata": {}
        }
      ],
      "source": [
        "# To store reward history of each episode\n",
        "ep_reward_list = []\n",
        "# To store average reward history of last few episodes\n",
        "avg_reward_list = []\n",
        "\n",
        "# Takes about 4 min to train\n",
        "for ep in range(total_episodes):\n",
        "    prev_state, _ = env.reset()\n",
        "    episodic_reward = 0\n",
        "\n",
        "    while True:\n",
        "        tf_prev_state = keras.ops.expand_dims(\n",
        "            keras.ops.convert_to_tensor(prev_state), 0\n",
        "        )\n",
        "\n",
        "        action = policy(tf_prev_state, ou_noise)\n",
        "        # Receive state and reward from environment.\n",
        "        state, reward, done, truncated, _ = env.step(action)\n",
        "\n",
        "        buffer.record((prev_state, action, reward, state))\n",
        "        episodic_reward += reward\n",
        "\n",
        "        buffer.learn()\n",
        "\n",
        "        update_target(target_actor, actor_model, tau)\n",
        "        update_target(target_critic, critic_model, tau)\n",
        "\n",
        "        # End this episode when `done` or `truncated` is True\n",
        "        if done or truncated:\n",
        "            break\n",
        "\n",
        "        prev_state = state\n",
        "\n",
        "    ep_reward_list.append(episodic_reward)\n",
        "\n",
        "    # Mean of last 40 episodes\n",
        "    avg_reward = np.mean(ep_reward_list[-40:])\n",
        "    print(\"Episode * {} * Avg Reward is ==> {}\".format(ep, avg_reward))\n",
        "    avg_reward_list.append(avg_reward)\n",
        "\n",
        "# Plotting graph\n",
        "# Episodes versus Avg. Rewards\n",
        "plt.plot(avg_reward_list)\n",
        "plt.xlabel(\"Episode\")\n",
        "plt.ylabel(\"Avg. Episodic Reward\")\n",
        "plt.show()"
      ]
    },
    {
      "cell_type": "markdown",
      "metadata": {
        "id": "yTw4lobmhGZC"
      },
      "source": [
        "If training proceeds correctly, the average episodic reward will increase with time.\n",
        "\n",
        "Feel free to try different learning rates, `tau` values, and architectures for the\n",
        "Actor and Critic networks.\n",
        "\n",
        "The Inverted Pendulum problem has low complexity, but DDPG work great on many other\n",
        "problems.\n",
        "\n",
        "Another great environment to try this on is `LunarLander-v2` continuous, but it will take\n",
        "more episodes to obtain good results."
      ]
    },
    {
      "cell_type": "code",
      "execution_count": 9,
      "metadata": {
        "id": "PV5GXjsThGZD"
      },
      "outputs": [],
      "source": [
        "# Save the weights\n",
        "actor_model.save_weights(\"pendulum_actor.weights.h5\")\n",
        "critic_model.save_weights(\"pendulum_critic.weights.h5\")\n",
        "\n",
        "target_actor.save_weights(\"pendulum_target_actor.weights.h5\")\n",
        "target_critic.save_weights(\"pendulum_target_critic.weights.h5\")"
      ]
    },
    {
      "cell_type": "code",
      "source": [
        "# Carrega os pesos do ator e crítico\n",
        "actor_model.load_weights(\"pendulum_actor.weights.h5\")\n",
        "critic_model.load_weights(\"pendulum_critic.weights.h5\")\n",
        "\n",
        "target_actor.load_weights(\"pendulum_target_actor.weights.h5\")\n",
        "target_critic.load_weights(\"pendulum_target_critic.weights.h5\")\n"
      ],
      "metadata": {
        "id": "DlDQUEKtmp2z"
      },
      "execution_count": 10,
      "outputs": []
    },
    {
      "cell_type": "code",
      "source": [
        "import gymnasium as gym\n",
        "from gymnasium.wrappers import RecordVideo, TimeLimit\n",
        "import os\n",
        "from IPython.display import Video\n",
        "import keras\n",
        "\n",
        "# Ambiente com steps maiores\n",
        "env = gym.make(\"Pendulum-v1\", render_mode=\"rgb_array\")\n",
        "env = TimeLimit(env, max_episode_steps=1000)\n",
        "env = RecordVideo(env, video_folder=\"videos_pendulum\", name_prefix=\"ddpg_pendulum_long\")\n",
        "\n",
        "# Executa um episódio\n",
        "state, _ = env.reset()\n",
        "done, truncated = False, False\n",
        "\n",
        "while not (done or truncated):\n",
        "    tf_state = keras.ops.expand_dims(keras.ops.convert_to_tensor(state), 0)\n",
        "    action = actor_model(tf_state).numpy().flatten()\n",
        "    state, reward, done, truncated, info = env.step(action)\n",
        "\n",
        "env.close()\n",
        "\n",
        "print('After 200 episodes:')\n",
        "# Mostra o vídeo\n",
        "video_path = [os.path.join(\"videos_pendulum\", f) for f in os.listdir(\"videos_pendulum\") if f.endswith(\".mp4\")][0]\n",
        "Video(video_path, embed=True)\n"
      ],
      "metadata": {
        "id": "1ZK1hA_umwCa",
        "outputId": "91f1abfb-7cca-4dc7-a825-373d6517c526",
        "colab": {
          "base_uri": "https://localhost:8080/",
          "height": 594
        }
      },
      "execution_count": 12,
      "outputs": [
        {
          "output_type": "stream",
          "name": "stderr",
          "text": [
            "/usr/local/lib/python3.12/dist-packages/gymnasium/wrappers/rendering.py:296: UserWarning: \u001b[33mWARN: Overwriting existing videos at /content/videos_pendulum folder (try specifying a different `video_folder` for the `RecordVideo` wrapper if this is not desired)\u001b[0m\n",
            "  logger.warn(\n"
          ]
        },
        {
          "output_type": "stream",
          "name": "stdout",
          "text": [
            "After 200 episodes:\n"
          ]
        },
        {
          "output_type": "execute_result",
          "data": {
            "text/plain": [
              "<IPython.core.display.Video object>"
            ],
            "text/html": [
              "<video controls  >\n",
              " <source src=\"data:video/mp4;base64,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\" type=\"video/mp4\">\n",
              " Your browser does not support the video tag.\n",
              " </video>"
            ]
          },
          "metadata": {},
          "execution_count": 12
        }
      ]
    },
    {
      "cell_type": "markdown",
      "metadata": {
        "id": "qho-eZy_hGZD"
      },
      "source": [
        "Before Training:\n",
        "\n",
        "![before_img](https://i.imgur.com/ox6b9rC.gif)"
      ]
    }
  ],
  "metadata": {
    "accelerator": "GPU",
    "colab": {
      "name": "ddpg_pendulum",
      "provenance": [],
      "toc_visible": true,
      "gpuType": "T4"
    },
    "kernelspec": {
      "display_name": "Python 3",
      "name": "python3"
    },
    "language_info": {
      "codemirror_mode": {
        "name": "ipython",
        "version": 3
      },
      "file_extension": ".py",
      "mimetype": "text/x-python",
      "name": "python",
      "nbconvert_exporter": "python",
      "pygments_lexer": "ipython3",
      "version": "3.7.0"
    }
  },
  "nbformat": 4,
  "nbformat_minor": 0
}